{
 "cells": [
  {
   "cell_type": "code",
   "execution_count": 2,
   "metadata": {},
   "outputs": [],
   "source": [
    "import torch\n",
    "from transformers import AutoTokenizer, AutoModelForCausalLM\n",
    "\n",
    "tokenizer = AutoTokenizer.from_pretrained('distilbert/distilgpt2')\n",
    "model = AutoModelForCausalLM.from_pretrained(\"distilbert/distilgpt2\")"
   ]
  },
  {
   "cell_type": "code",
   "execution_count": 33,
   "metadata": {},
   "outputs": [],
   "source": [
    "def predict(input_text):\n",
    "    input_ids = tokenizer.encode(input_text, return_tensors='pt')\n",
    "    output = model.generate(\n",
    "        input_ids,\n",
    "        max_length=700,\n",
    "        pad_token_id=tokenizer.eos_token_id,\n",
    "        num_return_sequences=4,\n",
    "        do_sample=True,\n",
    "        temperature=0.9\n",
    "    )\n",
    "    generated_text = tokenizer.decode(output[0], skip_special_tokens=True)\n",
    "    cleaned_text = ' '.join(generated_text.split())\n",
    "    return cleaned_text"
   ]
  },
  {
   "cell_type": "code",
   "execution_count": 34,
   "metadata": {},
   "outputs": [
    {
     "name": "stdout",
     "output_type": "stream",
     "text": [
      "question: what is economy? answer to question based on the following: The economic landscape of the Middle East and North Africa (MENA) region is characterized by a mix of modest growth, challenges, and opportunities as we move into 2024. According to the latest reports, the overall gross domestic product (GDP) growth in the region is projected to rise to **2.2%** in 2024, up from **1.8%** in 2023. This growth is primarily driven by the Gulf Cooperation Council (GCC) countries, which are expected to see an increase from **0.5%** to **1.9%** in GDP growth over the same period[1]. Despite this optimistic outlook for the GCC, other parts of MENA are facing economic deceleration. Oil-importing countries are anticipated to experience a slowdown in growth from **3.2%** in 2023 to **2.1%** in 2024, while non-GCC oil exporters are expected to decline from **3.2%** to **2.7%**[1]. The ongoing geopolitical tensions and conflicts in the region continue to create uncertainty, impacting trade and investment. In Egypt, significant reforms have been implemented following substantial investments from the UAE, leading to a positive economic turnaround. These reforms include liberalizing the currency regime, which has helped reduce inflation and attract further funding from international institutions[2]. However, challenges such as high poverty rates and underemployment persist. The tourism sector in the GCC is also showing robust growth, becoming one of the fastest-growing destinations globally. This trend is expected to support overall economic expansion as countries diversify away from oil dependency[3]. Additionally, advancements in technology and artificial intelligence are positioning the region as a hub for innovation, potentially driving future economic growth. Overall, while the MENA region faces significant challenges due to geopolitical instability and economic imbalances, there are also promising signs of recovery and diversification that could enhance its economic prospects in the coming years[4][5]. Citations: [1] https://www.worldbank.org/en/news/press-release/2024/10/16/modest-growth-forecast-for-economies-in-the-middle-east-and-north-africa-amid-rising-uncertainty [2] https://www.pwc.com/m1/en/publications/economy-watch/september-2024/meew-september-2024.pdf [3] https://www.mastercardservices.com/en/advisors/economic-consulting/insights/economic-outlook-2024-middle-east-and-north-africa [4] https://www.capitaleconomics.com/publication-group/middle-east-north-africa-economic-outlook [5] https://www.worldbank.org/en/region/mena/publication/middle-east-and-north-africa-economic-update [6] https://www.icaew.com/technical/economy/business-confidence-monitor/middle-east [7] https://www.yalex\n"
     ]
    }
   ],
   "source": [
    "prompt = \"\"\"\n",
    "    answer to question based on the following:\n",
    "    The economic landscape of the Middle East and North Africa (MENA) region is characterized by a mix of modest growth, challenges, and opportunities as we move into 2024. According to the latest reports, the overall gross domestic product (GDP) growth in the region is projected to rise to **2.2%** in 2024, up from **1.8%** in 2023. This growth is primarily driven by the Gulf Cooperation Council (GCC) countries, which are expected to see an increase from **0.5%** to **1.9%** in GDP growth over the same period[1].\n",
    "\n",
    "Despite this optimistic outlook for the GCC, other parts of MENA are facing economic deceleration. Oil-importing countries are anticipated to experience a slowdown in growth from **3.2%** in 2023 to **2.1%** in 2024, while non-GCC oil exporters are expected to decline from **3.2%** to **2.7%**[1]. The ongoing geopolitical tensions and conflicts in the region continue to create uncertainty, impacting trade and investment.\n",
    "\n",
    "In Egypt, significant reforms have been implemented following substantial investments from the UAE, leading to a positive economic turnaround. These reforms include liberalizing the currency regime, which has helped reduce inflation and attract further funding from international institutions[2]. However, challenges such as high poverty rates and underemployment persist.\n",
    "\n",
    "The tourism sector in the GCC is also showing robust growth, becoming one of the fastest-growing destinations globally. This trend is expected to support overall economic expansion as countries diversify away from oil dependency[3]. Additionally, advancements in technology and artificial intelligence are positioning the region as a hub for innovation, potentially driving future economic growth.\n",
    "\n",
    "Overall, while the MENA region faces significant challenges due to geopolitical instability and economic imbalances, there are also promising signs of recovery and diversification that could enhance its economic prospects in the coming years[4][5].\n",
    "\n",
    "Citations:\n",
    "[1] https://www.worldbank.org/en/news/press-release/2024/10/16/modest-growth-forecast-for-economies-in-the-middle-east-and-north-africa-amid-rising-uncertainty\n",
    "[2] https://www.pwc.com/m1/en/publications/economy-watch/september-2024/meew-september-2024.pdf\n",
    "[3] https://www.mastercardservices.com/en/advisors/economic-consulting/insights/economic-outlook-2024-middle-east-and-north-africa\n",
    "[4] https://www.capitaleconomics.com/publication-group/middle-east-north-africa-economic-outlook\n",
    "[5] https://www.worldbank.org/en/region/mena/publication/middle-east-and-north-africa-economic-update\n",
    "[6] https://www.icaew.com/technical/economy/business-confidence-monitor/middle-east\n",
    "\n",
    "\"\"\"\n",
    "\n",
    "question = f\"question: what is economy? {prompt}\"\n",
    "print(predict(question))"
   ]
  },
  {
   "cell_type": "code",
   "execution_count": 35,
   "metadata": {},
   "outputs": [
    {
     "name": "stdout",
     "output_type": "stream",
     "text": [
      "('question: what is economy? answer to question based on the following: The '\n",
      " 'economic landscape of the Middle East and North Africa (MENA) region is '\n",
      " 'characterized by a mix of modest growth, challenges, and opportunities as we '\n",
      " 'move into 2024. According to the latest reports, the overall gross domestic '\n",
      " 'product (GDP) growth in the region is projected to rise to **2.2%** in 2024, '\n",
      " 'up from **1.8%** in 2023. This growth is primarily driven by the Gulf '\n",
      " 'Cooperation Council (GCC) countries, which are expected to see an increase '\n",
      " 'from **0.5%** to **1.9%** in GDP growth over the same period[1]. Despite '\n",
      " 'this optimistic outlook for the GCC, other parts of MENA are facing economic '\n",
      " 'deceleration. Oil-importing countries are anticipated to experience a '\n",
      " 'slowdown in growth from **3.2%** in 2023 to **2.1%** in 2024, while non-GCC '\n",
      " 'oil exporters are expected to decline from **3.2%** to **2.7%**[1]. The '\n",
      " 'ongoing geopolitical tensions and conflicts in the region continue to create '\n",
      " 'uncertainty, impacting trade and investment. In Egypt, significant reforms '\n",
      " 'have been implemented following substantial investments from the UAE, '\n",
      " 'leading to a positive economic turnaround. These reforms include '\n",
      " 'liberalizing the currency regime, which has helped reduce inflation and '\n",
      " 'attract further funding from international institutions[2]. However, '\n",
      " 'challenges such as high poverty rates and underemployment persist. The '\n",
      " 'tourism sector in the GCC is also showing robust growth, becoming one of the '\n",
      " 'fastest-growing destinations globally. This trend is expected to support '\n",
      " 'overall economic expansion as countries diversify away from oil '\n",
      " 'dependency[3]. Additionally, advancements in technology and artificial '\n",
      " 'intelligence are positioning the region as a hub for innovation, potentially '\n",
      " 'driving future economic growth. Overall, while the MENA region faces '\n",
      " 'significant challenges due to geopolitical instability and economic '\n",
      " 'imbalances, there are also promising signs of recovery and diversification '\n",
      " 'that could enhance its economic prospects in the coming years[4][5]. '\n",
      " 'Citations: [1] '\n",
      " 'https://www.worldbank.org/en/news/press-release/2024/10/16/modest-growth-forecast-for-economies-in-the-middle-east-and-north-africa-amid-rising-uncertainty '\n",
      " '[2] '\n",
      " 'https://www.pwc.com/m1/en/publications/economy-watch/september-2024/meew-september-2024.pdf '\n",
      " '[3] '\n",
      " 'https://www.mastercardservices.com/en/advisors/economic-consulting/insights/economic-outlook-2024-middle-east-and-north-africa '\n",
      " '[4] '\n",
      " 'https://www.capitaleconomics.com/publication-group/middle-east-north-africa-economic-outlook '\n",
      " '[5] '\n",
      " 'https://www.worldbank.org/en/region/mena/publication/middle-east-and-north-africa-economic-update '\n",
      " '[6] '\n",
      " 'https://www.icaew.com/technical/economy/business-confidence-monitor/middle-east '\n",
      " '[7] https://www.egyptian.')\n"
     ]
    }
   ],
   "source": [
    "from pprint import pprint\n",
    "pprint(predict(question))"
   ]
  }
 ],
 "metadata": {
  "kernelspec": {
   "display_name": "nlpllm",
   "language": "python",
   "name": "python3"
  },
  "language_info": {
   "codemirror_mode": {
    "name": "ipython",
    "version": 3
   },
   "file_extension": ".py",
   "mimetype": "text/x-python",
   "name": "python",
   "nbconvert_exporter": "python",
   "pygments_lexer": "ipython3",
   "version": "3.11.11"
  }
 },
 "nbformat": 4,
 "nbformat_minor": 2
}
